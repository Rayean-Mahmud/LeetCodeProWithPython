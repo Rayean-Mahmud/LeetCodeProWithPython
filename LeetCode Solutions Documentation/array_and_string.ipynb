{
  "nbformat": 4,
  "nbformat_minor": 0,
  "metadata": {
    "colab": {
      "provenance": []
    },
    "kernelspec": {
      "name": "python3",
      "display_name": "Python 3"
    },
    "language_info": {
      "name": "python"
    }
  },
  "cells": [
    {
      "cell_type": "markdown",
      "source": [
        "# 📘 LeetCode Solutions Documentation: Arrays and Strings\n",
        "\n",
        "## 👨‍💻 Author: Rayean Mahmud Arnob\n",
        "**Email:** rayean.mahmud.arnob@g.bracu.ac.bd  \n",
        "**GitHub:** [click here](https://github.com/Rayean-Mahmud)  \n",
        "**LinkedIn:** [click here](https://www.linkedin.com/in/rayean-mahmud-arnob-a78345173/)  \n",
        "\n",
        "---\n",
        "\n",
        "### 📋 **Overview**\n",
        "This notebook documents solutions to LeetCode problems related to arrays and strings. Each problem includes the problem statement, the solution approach, and Python code with explanations.  \n",
        "\n",
        "### 🏆 **Purpose**\n",
        "- To systematically track and document progress in solving array and string problems.\n",
        "- To serve as a reference for revision and future interviews.\n",
        "- To improve problem-solving and algorithmic skills.\n",
        "\n",
        "---\n",
        "\n",
        "### 🚀 **Features**\n",
        "1. **Problem Statement:** Clear explanation of the problem.\n",
        "2. **Solution Approach:** Detailed reasoning for the chosen algorithm or method.\n",
        "3. **Code Implementation:** Python solution with comments explaining each step.\n",
        "4. **Complexity Analysis:** Time and space complexity discussion.\n",
        "5. **Test Cases:** Example inputs with outputs and edge cases.\n",
        "6. **Learning Notes:** Insights and techniques learned from solving the problem.\n",
        "\n",
        "---"
      ],
      "metadata": {
        "id": "aZm37IWY_Aec"
      }
    },
    {
      "cell_type": "markdown",
      "source": [
        "## 🧩[LeetCode Problem: 1768](https://leetcode.com/problems/merge-strings-alternately/description/?envType=study-plan-v2&envId=leetcode-75) - Merge Strings Alternately"
      ],
      "metadata": {
        "id": "GY5qr1D0BqhQ"
      }
    },
    {
      "cell_type": "markdown",
      "source": [
        "### 📜 **Problem Statement**  \n",
        "You are given two strings `word1` and `word2`. Merge the strings by adding letters in alternating order, starting with `word1`. If a string is longer than the other, append the additional letters onto the end of the merged string.  \n",
        "\n",
        "Return the merged string.  \n",
        "\n",
        "\n",
        "\n",
        "  \n",
        "\n",
        "#### **Example 1**  \n",
        "**Input:** `word1 = \"abc\", word2 = \"pqr\"`  \n",
        "**Output:** `\"apbqcr\"`  \n",
        "\n",
        "\n",
        "#### **Example 2**  \n",
        "**Input:** `word1 = \"ab\", word2 = \"pqrs\"`  \n",
        "**Output:** `\"apbqrs\"`  \n",
        "**Explanation:** Notice that as `word2` is longer, `\"rs\"` is appended to the end.  \n",
        "\n",
        "\n",
        "#### **Example 3**  \n",
        "**Input:** `word1 = \"abcd\", word2 = \"pq\"`\n",
        "**Output:** `\"apbqcd\"`  \n",
        "**Explanation:** Notice that as `word1` is longer, `\"cd\"` is appended to the end.  \n",
        "\n",
        "### **Constraints**  \n",
        "- `1 <= word1.length, word2.length <= 100`  \n",
        "- `word1` and `word2` consist of lowercase English letters.  \n",
        "\n"
      ],
      "metadata": {
        "id": "rSM3SCWMCPVp"
      }
    },
    {
      "cell_type": "markdown",
      "source": [
        "### 📝 **Solutions**\n"
      ],
      "metadata": {
        "id": "zVdfSjESGO6O"
      }
    },
    {
      "cell_type": "code",
      "source": [
        "# Merge Strings Alternately with One Pointer (Approach 1)\n",
        "\n",
        "class Solution(object):\n",
        "    def mergeAlternately(self, str1, str2):\n",
        "        merged_result = []\n",
        "        max_length = max(len(str1), len(str2))\n",
        "\n",
        "        for index in range(max_length):\n",
        "            if index < len(str1):\n",
        "                merged_result += str1[index]\n",
        "            if index < len(str2):\n",
        "                merged_result += str2[index]\n",
        "\n",
        "        return \"\".join(merged_result)\n",
        "\n",
        "# Example usage\n",
        "solution = Solution()\n",
        "print(solution.mergeAlternately(\"john\", \"snow\"))    # Output: \"jsonhonw\"\n",
        "print(solution.mergeAlternately(\"ab\", \"pqrs\"))    # Output: \"apbqrs\"\n",
        "print(solution.mergeAlternately(\"abcd\", \"pq\"))     # Output: \"apbqcd\"\n"
      ],
      "metadata": {
        "colab": {
          "base_uri": "https://localhost:8080/"
        },
        "id": "BqalMnMTGWgq",
        "outputId": "4c6fdd71-49b6-4e2f-8917-a2d52916e8a7"
      },
      "execution_count": null,
      "outputs": [
        {
          "output_type": "stream",
          "name": "stdout",
          "text": [
            "jsonhonw\n",
            "apbqrs\n",
            "apbqcd\n"
          ]
        }
      ]
    },
    {
      "cell_type": "code",
      "source": [
        "# Merge Strings Alternately with Two Pointer (Approach 2)\n",
        "\n",
        "class Solution(object):\n",
        "    def mergeAlternately(self, word1, word2):\n",
        "        result = []\n",
        "        i, j = 0, 0  # Initialize indices\n",
        "\n",
        "        while i < len(word1) or j < len(word2):\n",
        "            if i < len(word1):\n",
        "                result.append(word1[i])\n",
        "                i += 1  # Increment i\n",
        "\n",
        "            if j < len(word2):\n",
        "                result.append(word2[j])\n",
        "                j += 1  # Increment j\n",
        "\n",
        "        return ''.join(result)  # Join the list into a string\n",
        "\n",
        "# Example usage\n",
        "solution = Solution()\n",
        "print(solution.mergeAlternately(\"abc\", \"pqr\"))    # Output: \"apbqcr\"\n",
        "print(solution.mergeAlternately(\"ab\", \"pqrs\"))    # Output: \"apbqrs\"\n",
        "print(solution.mergeAlternately(\"abcd\", \"pq\"))     # Output: \"apbqcd\"\n",
        "\n",
        "#Time Complexity : O(n+m);\n",
        "#Space Complexity: O(n+m);"
      ],
      "metadata": {
        "colab": {
          "base_uri": "https://localhost:8080/"
        },
        "id": "8VqPlQWwHQdP",
        "outputId": "9fddec52-a97b-4500-e95b-fd1c5ae9e5bf"
      },
      "execution_count": null,
      "outputs": [
        {
          "output_type": "stream",
          "name": "stdout",
          "text": [
            "apbqcr\n",
            "apbqrs\n",
            "apbqcd\n"
          ]
        }
      ]
    },
    {
      "cell_type": "code",
      "source": [
        "# Merge Strings Alternately (Approach 3)\n",
        "\n",
        "class Solution(object):\n",
        "    def mergeAlternately(self, word1, word2):\n",
        "\n",
        "        result = []\n",
        "        for i in range(len(word1)):\n",
        "            result.append(word1[i])\n",
        "            try:\n",
        "                result.append(word2[i])\n",
        "            except:\n",
        "                continue\n",
        "        if len(word2) > len(word1):\n",
        "            result.append(word2[len(word1):])\n",
        "        return \"\".join(result)\n",
        "\n",
        "# Example usage\n",
        "solution = Solution()\n",
        "print(solution.mergeAlternately(\"abc\", \"pqr\"))    # Output: \"apbqcr\"\n",
        "print(solution.mergeAlternately(\"ab\", \"pqrs\"))    # Output: \"apbqrs\"\n",
        "print(solution.mergeAlternately(\"abcd\", \"pq\"))     # Output: \"apbqcd\"\n"
      ],
      "metadata": {
        "colab": {
          "base_uri": "https://localhost:8080/"
        },
        "id": "o0NrbjiyHzTg",
        "outputId": "e3c2708c-6b46-4058-89fd-bd5a2b0ce1ee"
      },
      "execution_count": null,
      "outputs": [
        {
          "output_type": "stream",
          "name": "stdout",
          "text": [
            "apbqcr\n",
            "apbqrs\n",
            "apbqcd\n"
          ]
        }
      ]
    },
    {
      "cell_type": "markdown",
      "source": [
        "## 🧩[LeetCode Problem: 1071](https://leetcode.com/problems/greatest-common-divisor-of-strings/description/?envType=study-plan-v2&envId=leetcode-75/) - Greatest Common Divisor of Strings"
      ],
      "metadata": {
        "id": "z_drZOxIIccy"
      }
    },
    {
      "cell_type": "markdown",
      "source": [
        "### 📜 **Problem Statement**  \n",
        "For two strings `s` and `t`, we say \"t divides s\" if and only if:  \n",
        "`s = t + t + t + ... + t` (i.e., `t` is concatenated with itself one or more times).  \n",
        "\n",
        "Given two strings `str1` and `str2`, return the largest string `x` such that `x` divides both `str1` and `str2`.  \n",
        "\n",
        "\n",
        "#### **Example 1**  \n",
        "**Input:**  \n",
        "`str1 = \"ABCABC\"`  \n",
        "`str2 = \"ABC\"`  \n",
        "**Output:**  \n",
        "`\"ABC\"`  \n",
        "**Explanation:**  \n",
        "- `\"ABC\"` divides `\"ABCABC\"` because `\"ABCABC\" = \"ABC\" + \"ABC\"`.  \n",
        "- `\"ABC\"` divides itself.  \n",
        "\n",
        "#### **Example 2**  \n",
        "**Input:**  \n",
        "`str1 = \"ABABAB\"`  \n",
        "`str2 = \"ABAB\"`  \n",
        "**Output:**  \n",
        "`\"AB\"`  \n",
        "**Explanation:**  \n",
        "- `\"AB\"` divides `\"ABABAB\"` because `\"ABABAB\" = \"AB\" + \"AB\" + \"AB\"`.  \n",
        "- `\"AB\"` divides `\"ABAB\"` because `\"ABAB\" = \"AB\" + \"AB\"`.  \n",
        "\n",
        "#### **Example 3**  \n",
        "**Input:**  \n",
        "`str1 = \"LEET\"`  \n",
        "`str2 = \"CODE\"`  \n",
        "**Output:**  \n",
        "`\"\"`  \n",
        "**Explanation:**  \n",
        "- No string `x` exists such that `x` divides both `\"LEET\"` and `\"CODE\"`.  \n",
        "\n",
        "### **Constraints**  \n",
        "- $1 \\leq$ `str1.length`, `str2.length` $\\leq 1000$  \n",
        "- `str1` and `str2` consist of English uppercase letters.  \n"
      ],
      "metadata": {
        "id": "fLaZxH_HJ1gW"
      }
    },
    {
      "cell_type": "markdown",
      "source": [
        "### 📝 **Solutions**"
      ],
      "metadata": {
        "id": "1pMICD5FKFQz"
      }
    },
    {
      "cell_type": "code",
      "source": [
        "# Greatest Common Divisor of Strings with Brute Force method\n",
        "\n",
        "class Solution(object):\n",
        "    def gcdOfStrings(self, str1, str2):\n",
        "        len1 = len(str1)\n",
        "        len2 = len(str2)\n",
        "\n",
        "        def is_valid_divisor (k):\n",
        "            if len1 % k !=0 or len2 % k !=0:\n",
        "                return False\n",
        "            repeat_count1 = len1//k\n",
        "            repeat_count2 = len2//k\n",
        "            base = str1[:k]\n",
        "            return str1 == repeat_count1*base and str2 == repeat_count2*base\n",
        "\n",
        "        # Iterate from the largest possible divisor down to 1\n",
        "        for i in range (min(len1,len2),0,-1):\n",
        "            if is_valid_divisor(i):\n",
        "                return str1[:i]\n",
        "\n",
        "        return \"\"\n",
        "\n",
        "# Test case 1\n",
        "solution = Solution()\n",
        "str1 = \"ABABAB\"\n",
        "str2 = \"ABAB\"\n",
        "\n",
        "print(f\"Input: str1 = '{str1}', str2 = '{str2}'\")\n",
        "print(f\"Output: '{solution.gcdOfStrings(str1, str2)}'\")"
      ],
      "metadata": {
        "colab": {
          "base_uri": "https://localhost:8080/"
        },
        "id": "S-a0oof6KHJM",
        "outputId": "3bc3864f-a9ae-47b1-ecc7-8a6ac67d0372"
      },
      "execution_count": null,
      "outputs": [
        {
          "output_type": "stream",
          "name": "stdout",
          "text": [
            "Input: str1 = 'ABABAB', str2 = 'ABAB'\n",
            "Output: 'AB'\n"
          ]
        }
      ]
    },
    {
      "cell_type": "code",
      "source": [
        "# Greatest Common Divisor of Strings (Approach 2)\n",
        "\n",
        "from math import gcd\n",
        "class Solution:\n",
        "    def gcdOfStrings(self, str1, str2) :\n",
        "        # Check if concatenated strings are equal or not, if not return \"\"\n",
        "        if str1 + str2 != str2 + str1:\n",
        "            return \"\"\n",
        "        # If strings are equal than return the substring from 0 to gcd of size(str1), size(str2)\n",
        "        return str1[:gcd(len(str1), len(str2))]\n",
        "        return \"\"\n",
        "\n",
        "# Test case 1\n",
        "solution = Solution()\n",
        "str1 = \"ABCABCABC\"\n",
        "str2 = \"ABCABC\"\n",
        "\n",
        "print(f\"Input: str1 = '{str1}', str2 = '{str2}'\")\n",
        "print(f\"Output: '{solution.gcdOfStrings(str1, str2)}'\")"
      ],
      "metadata": {
        "colab": {
          "base_uri": "https://localhost:8080/"
        },
        "id": "_8N2qgJIKmkG",
        "outputId": "e4cbfd46-109e-4eb1-bf3c-b93c50c2df78"
      },
      "execution_count": null,
      "outputs": [
        {
          "output_type": "stream",
          "name": "stdout",
          "text": [
            "Input: str1 = 'ABCABCABC', str2 = 'ABCABC'\n",
            "Output: 'ABC'\n"
          ]
        }
      ]
    },
    {
      "cell_type": "markdown",
      "source": [
        "## 🧩[LeetCode Problem: 1431](https://leetcode.com/problems/kids-with-the-greatest-number-of-candies/description/?envType=study-plan-v2&envId=leetcode-75)  - Kids With the Greatest Number of Candies"
      ],
      "metadata": {
        "id": "UxyI-nCXUb2S"
      }
    },
    {
      "cell_type": "markdown",
      "source": [
        "### 📜 **Problem Statement**  \n",
        "There are `n` kids with candies. You are given an integer array `candies`, where each `candies[i]` represents the number of candies the `i`th kid has, and an integer `extraCandies`, denoting the number of extra candies that you have.  \n",
        "\n",
        "Return a boolean array `result` of length `n`, where `result[i]` is `true` if, after giving the `i`th kid all the `extraCandies`, they will have the greatest number of candies among all the kids, or `false` otherwise.  \n",
        "\n",
        "Note that multiple kids can have the greatest number of candies.  \n",
        "\n",
        "---\n",
        "\n",
        "#### **Example 1**  \n",
        "**Input:**  \n",
        "`candies = [2,3,5,1,3]`  \n",
        "`extraCandies = 3`  \n",
        "**Output:**  \n",
        "`[true, true, true, false, true]`  \n",
        "**Explanation:**  \n",
        "If you give all `extraCandies` to:  \n",
        "- Kid 1, they will have `2 + 3 = 5` candies, which is the greatest among the kids.  \n",
        "- Kid 2, they will have `3 + 3 = 6` candies, which is the greatest among the kids.  \n",
        "- Kid 3, they will have `5 + 3 = 8` candies, which is the greatest among the kids.  \n",
        "- Kid 4, they will have `1 + 3 = 4` candies, which is **not** the greatest among the kids.  \n",
        "- Kid 5, they will have `3 + 3 = 6` candies, which is the greatest among the kids.  \n",
        "\n",
        "#### **Example 2**  \n",
        "**Input:**  \n",
        "`candies = [4,2,1,1,2]`  \n",
        "`extraCandies = 1`  \n",
        "**Output:**  \n",
        "`[true, false, false, false, false]`  \n",
        "**Explanation:**  \n",
        "There is only `1` extra candy.  \n",
        "- Kid 1 will always have the greatest number of candies, even if a different kid is given the extra candy.  \n",
        "\n",
        "#### **Example 3**  \n",
        "**Input:**  \n",
        "`candies = [12,1,12]`  \n",
        "`extraCandies = 10`  \n",
        "**Output:**  \n",
        "`[true, false, true]`\n",
        "  \n",
        "---\n",
        "\n",
        "### **Constraints**  \n",
        "- `n == candies.length`  \n",
        "- $2 \\leq n \\leq 100$  \n",
        "- $1 \\leq candies[i] \\leq 100$  \n",
        "- $1 \\leq extraCandies \\leq 50$  \n"
      ],
      "metadata": {
        "id": "JNYP8AHeU-dW"
      }
    },
    {
      "cell_type": "markdown",
      "source": [
        "### 📝 **Solution**"
      ],
      "metadata": {
        "id": "QWXiX9G4a14A"
      }
    },
    {
      "cell_type": "code",
      "source": [
        "class Solution(object):\n",
        "    def kidsWithCandies(self, candies, extraCandies):\n",
        "        \"\"\"\n",
        "        :type candies: List[int]\n",
        "        :type extraCandies: int\n",
        "        :rtype: List[bool]\n",
        "        \"\"\"\n",
        "        maxCandies = max(candies)\n",
        "        result =[]\n",
        "        for i in range(len(candies)):\n",
        "            result.append(candies[i]+extraCandies >= maxCandies)\n",
        "        return result\n",
        "\n",
        "solution = Solution()\n",
        "candies =[2,3,5,1,3]\n",
        "extraCandies = 3\n",
        "print(solution.kidsWithCandies(candies,extraCandies))"
      ],
      "metadata": {
        "colab": {
          "base_uri": "https://localhost:8080/"
        },
        "id": "DTN5OLtYWG7i",
        "outputId": "68057931-d085-43b5-c475-d43460a06e23"
      },
      "execution_count": 8,
      "outputs": [
        {
          "output_type": "stream",
          "name": "stdout",
          "text": [
            "[True, True, True, False, True]\n"
          ]
        }
      ]
    },
    {
      "cell_type": "markdown",
      "source": [
        "## 🧩[LeetCode Problem: 605](https://leetcode.com/problems/can-place-flowers/description/?envType=study-plan-v2&envId=leetcode-75)  - Can Place Flowers"
      ],
      "metadata": {
        "id": "4y-hiUD5XNd7"
      }
    },
    {
      "cell_type": "markdown",
      "source": [
        "### 📜 **Problem Statement**  \n",
        "You have a long flowerbed in which some of the plots are planted, and some are not. However, flowers cannot be planted in adjacent plots.  \n",
        "\n",
        "Given an integer array `flowerbed` containing `0`s and `1`s, where `0` means empty and `1` means not empty, and an integer `n`, return `true` if `n` new flowers can be planted in the flowerbed without violating the no-adjacent-flowers rule and `false` otherwise.  \n",
        "\n",
        "---\n",
        "  \n",
        "\n",
        "#### **Example 1**  \n",
        "**Input:**  \n",
        "`flowerbed = [1,0,0,0,1]`  \n",
        "`n = 1`  \n",
        "**Output:**  \n",
        "`true`  \n",
        "\n",
        "#### **Example 2**  \n",
        "**Input:**  \n",
        "`flowerbed = [1,0,0,0,1]`  \n",
        "`n = 2`  \n",
        "**Output:**  \n",
        "`false`  \n",
        "\n",
        "---\n",
        "\n",
        "### **Constraints**  \n",
        "- $1 \\leq \\text{flowerbed.length} \\leq 2 \\times 10^4$  \n",
        "- `flowerbed[i]` is `0` or `1`.  \n",
        "- There are no two adjacent flowers in the `flowerbed`.  \n",
        "- $0 \\leq n \\leq \\text{flowerbed.length}$  \n"
      ],
      "metadata": {
        "id": "xbMUzpMAYKJe"
      }
    },
    {
      "cell_type": "markdown",
      "source": [
        "### 📝 **Solution**"
      ],
      "metadata": {
        "id": "UzCN9Fmia8L4"
      }
    },
    {
      "cell_type": "code",
      "source": [
        "class Solution(object):\n",
        "    def canPlaceFlowers(self, flowerbed, n):\n",
        "        \"\"\"\n",
        "        :type flowerbed: List[int]\n",
        "        :type n: int\n",
        "        :rtype: bool\n",
        "        \"\"\"\n",
        "        for i in range(len(flowerbed)):\n",
        "            left = i == 0 or flowerbed[i-1]==0\n",
        "            right = i == len(flowerbed) -1 or flowerbed[i+1]==0\n",
        "\n",
        "            if left and right and flowerbed[i]==0:\n",
        "                flowerbed[i]=1\n",
        "                n = n-1\n",
        "\n",
        "        return n<=0\n",
        "\n",
        "# Checking test case\n",
        "solution = Solution()\n",
        "flowerbed = [1,0,0,0,1]\n",
        "n=1\n",
        "print(solution.canPlaceFlowers(flowerbed,n))"
      ],
      "metadata": {
        "colab": {
          "base_uri": "https://localhost:8080/"
        },
        "id": "eKdm1Kl2bIQ8",
        "outputId": "9f8ac10d-e3de-4765-ca92-9bda947920d0"
      },
      "execution_count": 9,
      "outputs": [
        {
          "output_type": "stream",
          "name": "stdout",
          "text": [
            "True\n"
          ]
        }
      ]
    },
    {
      "cell_type": "markdown",
      "source": [
        "## 🧩[LeetCode Problem: 345](https://leetcode.com/problems/reverse-vowels-of-a-string/description/?envType=study-plan-v2&envId=leetcode-75)  - Reverse Vowels of a String"
      ],
      "metadata": {
        "id": "-yvBcVCNbbh4"
      }
    },
    {
      "cell_type": "markdown",
      "source": [
        "### 📜 **Problem Statement**  \n",
        "Given a string `s`, reverse only all the vowels in the string and return it.  \n",
        "\n",
        "The vowels are `'a'`, `'e'`, `'i'`, `'o'`, and `'u'`, and they can appear in both lower and upper cases, more than once.  \n",
        "\n",
        "---\n",
        "\n",
        "\n",
        "#### **Example 1**  \n",
        "**Input:**  \n",
        "`s = \"IceCreAm\"`  \n",
        "**Output:**  \n",
        "`\"AceCreIm\"`  \n",
        "\n",
        "**Explanation:**  \n",
        "The vowels in `s` are `['I', 'e', 'e', 'A']`. On reversing the vowels, `s` becomes `\"AceCreIm\"`.  \n",
        "\n",
        "#### **Example 2**  \n",
        "**Input:**  \n",
        "`s = \"leetcode\"`  \n",
        "**Output:**  \n",
        "`\"leotcede\"`  \n",
        "\n",
        "---\n",
        "\n",
        "### **Constraints**  \n",
        "- $1 \\leq \\text{s.length} \\leq 3 \\times 10^5$  \n",
        "- `s` consists of printable ASCII characters.  \n"
      ],
      "metadata": {
        "id": "fMrzrIOgcvua"
      }
    },
    {
      "cell_type": "markdown",
      "source": [
        "### 📝 **Solution**"
      ],
      "metadata": {
        "id": "Ci9ioYzJc5WM"
      }
    },
    {
      "cell_type": "code",
      "source": [
        "class Solution(object):\n",
        "    def reverseVowels(self, s):\n",
        "        \"\"\"\n",
        "        :type s: str\n",
        "        :rtype: str\n",
        "        \"\"\"\n",
        "        l = ['a','e','i','o','u','A','E','I','O','U']\n",
        "        m=[]\n",
        "\n",
        "        for i in s:\n",
        "            if i in l:\n",
        "                m.append(i)\n",
        "\n",
        "        n= len(m)\n",
        "        s=list(s)\n",
        "        for i in range (len(s)):\n",
        "            if s[i] in l:\n",
        "                n-=1\n",
        "                s[i] = m[n]\n",
        "\n",
        "\n",
        "        return ''.join(s)\n",
        "\n",
        "solution = Solution()\n",
        "\n",
        "s= 'Hello'\n",
        "print(solution.reverseVowels(s))\n",
        "#expected Output: Holle"
      ],
      "metadata": {
        "colab": {
          "base_uri": "https://localhost:8080/"
        },
        "id": "wyccyC7ndC7f",
        "outputId": "6c297d1d-276e-4735-d7cc-b5654851ccde"
      },
      "execution_count": 10,
      "outputs": [
        {
          "output_type": "stream",
          "name": "stdout",
          "text": [
            "Holle\n"
          ]
        }
      ]
    },
    {
      "cell_type": "markdown",
      "source": [
        "## 🧩[LeetCode Problem:  151](https://leetcode.com/problems/reverse-words-in-a-string/description/?envType=study-plan-v2&envId=leetcode-75) - Reverse Words in a String"
      ],
      "metadata": {
        "id": "F_PypJ0FdRNE"
      }
    },
    {
      "cell_type": "markdown",
      "source": [
        "### 📜 **Problem Statement**  \n",
        "Given an input string `s`, reverse the order of the words.  \n",
        "\n",
        "A **word** is defined as a sequence of non-space characters. The words in `s` will be separated by at least one space.  \n",
        "\n",
        "Return a string of the words in reverse order concatenated by a single space.  \n",
        "\n",
        "**Note:**  \n",
        "- `s` may contain leading or trailing spaces or multiple spaces between two words.  \n",
        "- The returned string should only have a single space separating the words.  \n",
        "- Do not include any extra spaces.  \n",
        "\n",
        "---\n",
        "  \n",
        "\n",
        "#### **Example 1**  \n",
        "**Input:**  \n",
        "`s = \"the sky is blue\"`  \n",
        "**Output:**  \n",
        "`\"blue is sky the\"`  \n",
        "\n",
        "#### **Example 2**  \n",
        "**Input:**  \n",
        "`s = \"  hello world  \"`  \n",
        "**Output:**  \n",
        "`\"world hello\"`  \n",
        "**Explanation:**  \n",
        "Your reversed string should not contain leading or trailing spaces.  \n",
        "\n",
        "#### **Example 3**  \n",
        "**Input:**  \n",
        "`s = \"a good   example\"`  \n",
        "**Output:**  \n",
        "`\"example good a\"`  \n",
        "**Explanation:**  \n",
        "You need to reduce multiple spaces between two words to a single space in the reversed string.  \n",
        "\n",
        "---\n",
        "\n",
        "### **Constraints**  \n",
        "- $1 \\leq \\text{s.length} \\leq 10^4$  \n",
        "- `s` contains English letters (upper-case and lower-case), digits, and spaces `' '`.  \n",
        "- There is at least one word in `s`.  \n",
        "\n",
        "---\n",
        "\n",
        "### **Follow-up**  \n",
        "If the string data type is mutable in your language, can you solve it **in-place** with $O(1)$ extra space?  \n"
      ],
      "metadata": {
        "id": "Odt3hrs-d_MX"
      }
    },
    {
      "cell_type": "markdown",
      "source": [
        "### 📝 **Solution**"
      ],
      "metadata": {
        "id": "Ma0PS3oleSNr"
      }
    },
    {
      "cell_type": "code",
      "source": [
        "class Solution(object):\n",
        "    def reverseWords(self, s):\n",
        "        \"\"\"\n",
        "        :type s: str\n",
        "        :rtype: str\n",
        "        \"\"\"\n",
        "        words = s.split()\n",
        "        result = []\n",
        "        for i in range(len(words)-1,-1,-1):\n",
        "            result.append(words[i])\n",
        "\n",
        "            if i!=0:\n",
        "                result.append (\" \")\n",
        "        return \"\".join(result)\n",
        "\n",
        "\n",
        "#test case\n",
        "solution = Solution()\n",
        "s= \"I love Bangladesh\"\n",
        "print(solution.reverseWords(s))\n",
        "\n",
        "#expected Output: Bangladesh love I"
      ],
      "metadata": {
        "colab": {
          "base_uri": "https://localhost:8080/"
        },
        "id": "I_GPsMvKeWzx",
        "outputId": "3afdaadf-35ff-40b7-a181-f7f040d8fb37"
      },
      "execution_count": 11,
      "outputs": [
        {
          "output_type": "stream",
          "name": "stdout",
          "text": [
            "Bangladesh love I\n"
          ]
        }
      ]
    },
    {
      "cell_type": "markdown",
      "source": [
        "## 🧩[LeetCode Problem: 238](https://leetcode.com/problems/product-of-array-except-self/description/?envType=study-plan-v2&envId=leetcode-75) -  Product of Array Except Self"
      ],
      "metadata": {
        "id": "4HpQKXc9e3CN"
      }
    },
    {
      "cell_type": "markdown",
      "source": [
        "### 📜 **Problem Statement**  \n",
        "Given an integer array `nums`, return an array `answer` such that `answer[i]` is equal to the product of all the elements of `nums` except `nums[i]`.\n",
        "\n",
        "The product of any prefix or suffix of `nums` is guaranteed to fit in a 32-bit integer.\n",
        "\n",
        "You must write an algorithm that runs in **O(n)** time and without using the division operation.\n",
        "\n",
        "---\n",
        "\n",
        "### **Examples**  \n",
        "\n",
        "#### **Example 1**  \n",
        "**Input:**  \n",
        "`nums = [1,2,3,4]`  \n",
        "**Output:**  \n",
        "`[24,12,8,6]`  \n",
        "\n",
        "#### **Example 2**  \n",
        "**Input:**  \n",
        "`nums = [-1,1,0,-3,3]`  \n",
        "**Output:**  \n",
        "`[0,0,9,0,0]`  \n",
        "\n",
        "---\n",
        "\n",
        "### **Constraints**  \n",
        "- $2 \\leq \\text{nums.length} \\leq 10^5$  \n",
        "- $-30 \\leq \\text{nums}[i] \\leq 30$  \n",
        "- The product of any prefix or suffix of `nums` is guaranteed to fit in a 32-bit integer.\n",
        "\n",
        "---\n",
        "\n",
        "### **Follow-up**  \n",
        "Can you solve the problem in **O(1)** extra space complexity? (The output array does not count as extra space for space complexity analysis.)\n"
      ],
      "metadata": {
        "id": "zQ6KF8GXfZ9O"
      }
    },
    {
      "cell_type": "markdown",
      "source": [
        "### 📝 **Solution**"
      ],
      "metadata": {
        "id": "7VQM9HqSf7BG"
      }
    },
    {
      "cell_type": "code",
      "source": [
        "class Solution(object):\n",
        "    def productExceptSelf(self, nums):\n",
        "        \"\"\"\n",
        "        :type nums: List[int]\n",
        "        :rtype: List[int]\n",
        "        \"\"\"\n",
        "        answer = [1]*len(nums)\n",
        "        left = 1\n",
        "        for i in range (len(nums)):\n",
        "            answer[i] *= left\n",
        "            left *= nums[i]\n",
        "\n",
        "        right = 1\n",
        "        for i in range (len(nums)-1,-1,-1):\n",
        "            answer[i] *= right\n",
        "            right *= nums[i]\n",
        "\n",
        "        return answer\n",
        "\n",
        "#test case\n",
        "solution = Solution()\n",
        "nums =[1,2,3,4]\n",
        "print(solution.productExceptSelf(nums))\n",
        "\n",
        ""
      ],
      "metadata": {
        "colab": {
          "base_uri": "https://localhost:8080/"
        },
        "id": "z8s8-TlBf4bU",
        "outputId": "ee2f47b7-32ef-4db4-fff1-c2fd2d822fe1"
      },
      "execution_count": 12,
      "outputs": [
        {
          "output_type": "stream",
          "name": "stdout",
          "text": [
            "[24, 12, 8, 6]\n"
          ]
        }
      ]
    },
    {
      "cell_type": "markdown",
      "source": [
        "## 🧩[LeetCode Problem: 334](https://leetcode.com/problems/increasing-triplet-subsequence/description/?envType=study-plan-v2&envId=leetcode-75) - Increasing Triplet Subsequence"
      ],
      "metadata": {
        "id": "HNlicKwfgi31"
      }
    },
    {
      "cell_type": "markdown",
      "source": [
        "### 📜 **Problem Statement**  \n",
        "Given an integer array `nums`, return `true` if there exists a triple of indices `(i, j, k)` such that `i < j < k` and `nums[i] < nums[j] < nums[k]`. If no such indices exist, return `false`.\n",
        "\n",
        "---\n",
        "\n",
        "#### **Example 1**  \n",
        "**Input:**  \n",
        "`nums = [1,2,3,4,5]`  \n",
        "**Output:**  \n",
        "`true`  \n",
        "**Explanation:**  \n",
        "Any triplet where `i < j < k` is valid.\n",
        "\n",
        "#### **Example 2**  \n",
        "**Input:**  \n",
        "`nums = [5,4,3,2,1]`  \n",
        "**Output:**  \n",
        "`false`  \n",
        "**Explanation:**  \n",
        "No triplet exists.\n",
        "\n",
        "#### **Example 3**  \n",
        "**Input:**  \n",
        "`nums = [2,1,5,0,4,6]`  \n",
        "**Output:**  \n",
        "`true`  \n",
        "**Explanation:**  \n",
        "The triplet `(3, 4, 5)` is valid because `nums[3] == 0 < nums[4] == 4 < nums[5] == 6`.\n",
        "\n",
        "---\n",
        "\n",
        "### **Constraints**  \n",
        "- $1 \\leq \\text{nums.length} \\leq 5 \\times 10^5$  \n",
        "- $-2^{31} \\leq \\text{nums}[i] \\leq 2^{31} - 1$\n",
        "\n",
        "---\n",
        "\n",
        "### **Follow-up**  \n",
        "Could you implement a solution that runs in **O(n)** time complexity and **O(1)** space complexity?\n"
      ],
      "metadata": {
        "id": "YEx5kOr7g20W"
      }
    },
    {
      "cell_type": "markdown",
      "source": [
        "📝 Solution"
      ],
      "metadata": {
        "id": "HTdEOqlzhJ0D"
      }
    },
    {
      "cell_type": "code",
      "source": [
        "class Solution(object):\n",
        "    def increasingTriplet(self, nums):\n",
        "        \"\"\"\n",
        "        :type nums: List[int]\n",
        "        :rtype: bool\n",
        "        \"\"\"\n",
        "        min1 = float('inf')\n",
        "        min2 = float('inf')\n",
        "\n",
        "        for n in nums:\n",
        "            if n <= min1:\n",
        "                min1 = n\n",
        "            elif n<= min2:\n",
        "                min2 = n\n",
        "            else:\n",
        "                return True\n",
        "        return False\n",
        "\n",
        "#test case\n",
        "solution = Solution()\n",
        "nums =[3,4,1,5,6]\n",
        "print(solution.increasingTriplet(nums))\n",
        "\n",
        ""
      ],
      "metadata": {
        "colab": {
          "base_uri": "https://localhost:8080/"
        },
        "id": "V7lzBpzbhQR4",
        "outputId": "e8e48fef-53b1-4082-e554-9d3855646dd5"
      },
      "execution_count": 13,
      "outputs": [
        {
          "output_type": "stream",
          "name": "stdout",
          "text": [
            "True\n"
          ]
        }
      ]
    },
    {
      "cell_type": "markdown",
      "source": [
        "## 🧩[LeetCode Problem: 443](https://leetcode.com/problems/string-compression/description/?envType=study-plan-v2&envId=leetcode-75) - String Compression"
      ],
      "metadata": {
        "id": "IvCBrFFlhjqe"
      }
    },
    {
      "cell_type": "markdown",
      "source": [
        "### 📜 **Problem Statement**  \n",
        "Given an array of characters `chars`, compress it using the following algorithm:\n",
        "\n",
        "- Begin with an empty string `s`. For each group of consecutive repeating characters in `chars`:\n",
        "  - If the group's length is 1, append the character to `s`.\n",
        "  - Otherwise, append the character followed by the group's length.\n",
        "  \n",
        "The compressed string `s` should not be returned separately, but instead, be stored in the input character array `chars`. Note that group lengths that are 10 or longer will be split into multiple characters in `chars`.\n",
        "\n",
        "After you are done modifying the input array, return the new length of the array.\n",
        "\n",
        "You must write an algorithm that uses only **constant extra space**.\n",
        "\n",
        "---\n",
        "\n",
        "#### **Example 1**  \n",
        "**Input:**  \n",
        "`chars = [\"a\",\"a\",\"b\",\"b\",\"c\",\"c\",\"c\"]`  \n",
        "**Output:**  \n",
        "`Return 6, and the first 6 characters of the input array should be: [\"a\",\"2\",\"b\",\"2\",\"c\",\"3\"]`  \n",
        "**Explanation:**  \n",
        "The groups are `\"aa\"`, `\"bb\"`, and `\"ccc\"`. This compresses to `\"a2b2c3\"`.\n",
        "\n",
        "#### **Example 2**  \n",
        "**Input:**  \n",
        "`chars = [\"a\"]`  \n",
        "**Output:**  \n",
        "`Return 1, and the first character of the input array should be: [\"a\"]`  \n",
        "**Explanation:**  \n",
        "The only group is `\"a\"`, which remains uncompressed since it's a single character.\n",
        "\n",
        "#### **Example 3**  \n",
        "**Input:**  \n",
        "`chars = [\"a\",\"b\",\"b\",\"b\",\"b\",\"b\",\"b\",\"b\",\"b\",\"b\",\"b\",\"b\",\"b\"]`  \n",
        "**Output:**  \n",
        "`Return 4, and the first 4 characters of the input array should be: [\"a\",\"b\",\"1\",\"2\"]`  \n",
        "**Explanation:**  \n",
        "The groups are `\"a\"` and `\"bbbbbbbbbbbb\"`. This compresses to `\"ab12\"`.\n",
        "\n",
        "---\n",
        "\n",
        "### **Constraints**  \n",
        "- $1 \\leq \\text{chars.length} \\leq 2000$  \n",
        "- `chars[i]` is a lowercase English letter, uppercase English letter, digit, or symbol.\n"
      ],
      "metadata": {
        "id": "ey5H_6h3h0ab"
      }
    },
    {
      "cell_type": "markdown",
      "source": [
        "### 📝 **Solution**"
      ],
      "metadata": {
        "id": "pr0t_iiHiOif"
      }
    },
    {
      "cell_type": "code",
      "source": [
        "class Solution(object):\n",
        "    def compress(self, chars):\n",
        "        \"\"\"\n",
        "        :type chars: List[str]\n",
        "        :rtype: int\n",
        "        \"\"\"\n",
        "        i = 0\n",
        "        result = 0  # Pointer for where to write the compressed string\n",
        "\n",
        "        while i < len(chars):\n",
        "            letter = chars[i]\n",
        "            count = 0\n",
        "\n",
        "            # Count consecutive occurrences of the same character\n",
        "            while i < len(chars) and chars[i] == letter:\n",
        "                count += 1\n",
        "                i += 1\n",
        "\n",
        "            # Write the character\n",
        "            chars[result] = letter\n",
        "            result += 1\n",
        "\n",
        "            # Write the count if greater than 1\n",
        "            if count > 1:\n",
        "                for digit in str(count):\n",
        "                    chars[result] = digit\n",
        "                    result += 1\n",
        "\n",
        "        return result\n",
        "\n",
        "#test case\n",
        "\n",
        "chars = [\"a\", \"a\", \"b\", \"b\", \"c\", \"c\", \"c\"]\n",
        "solution = Solution()\n",
        "c_length = solution.compress(chars)\n",
        "print(chars[:c_length])"
      ],
      "metadata": {
        "colab": {
          "base_uri": "https://localhost:8080/"
        },
        "id": "tCau_fSMiQeU",
        "outputId": "3a0bdf1b-cd11-4ff8-9a18-5458e88a8ad3"
      },
      "execution_count": 14,
      "outputs": [
        {
          "output_type": "stream",
          "name": "stdout",
          "text": [
            "['a', '2', 'b', '2', 'c', '3']\n"
          ]
        }
      ]
    }
  ]
}